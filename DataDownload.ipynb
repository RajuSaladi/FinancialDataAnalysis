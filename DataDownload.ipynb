{
 "cells": [
  {
   "cell_type": "code",
   "execution_count": null,
   "metadata": {},
   "outputs": [],
   "source": [
    "import pandas as pd\n",
    "import numpy as np\n",
    "import os\n",
    "import nsepy\n",
    "import datetime\n",
    "from tqdm import tqdm"
   ]
  },
  {
   "cell_type": "code",
   "execution_count": null,
   "metadata": {},
   "outputs": [],
   "source": [
    "def CreateAndAssignFolder(folderpath):\n",
    "    if not os.path.exists(folderpath):\n",
    "        os.makedirs(folderpath)\n",
    "    return folderpath"
   ]
  },
  {
   "cell_type": "code",
   "execution_count": null,
   "metadata": {},
   "outputs": [],
   "source": [
    "data_folder = CreateAndAssignFolder('data/')\n",
    "output_folder = CreateAndAssignFolder('output/')"
   ]
  },
  {
   "cell_type": "code",
   "execution_count": null,
   "metadata": {},
   "outputs": [],
   "source": [
    "dir(nsepy)"
   ]
  },
  {
   "cell_type": "code",
   "execution_count": null,
   "metadata": {},
   "outputs": [],
   "source": [
    "from nsetools import Nse\n",
    "nse = Nse()\n",
    "all_stock_codes = nse.get_stock_codes()"
   ]
  },
  {
   "cell_type": "code",
   "execution_count": null,
   "metadata": {},
   "outputs": [],
   "source": [
    "stock_df = pd.DataFrame.from_dict(all_stock_codes,orient='index')\n",
    "stock_df.columns = stock_df.iloc[0]\n",
    "stock_df = stock_df.iloc[1:].copy()\n",
    "stock_df"
   ]
  },
  {
   "cell_type": "code",
   "execution_count": null,
   "metadata": {},
   "outputs": [],
   "source": [
    "for this_stock_name in tqdm(stock_df.index):\n",
    "    csv_file_path = os.path.join(data_folder,'{0}.csv'.format(this_stock_name))\n",
    "    if os.path.exists(csv_file_path):\n",
    "        #print(\"Skipping file as exists\")\n",
    "        pass\n",
    "    else:\n",
    "        try:\n",
    "            this_stock_df = nsepy.get_history(symbol=this_stock_name,\n",
    "                                start=datetime.date(1991,1,1), \n",
    "                                end=datetime.date(2021,1,13))\n",
    "            this_stock_df.to_csv(csv_file_path)\n",
    "        except:\n",
    "            print(\"Error while processing {0}\".format(this_stock_name))"
   ]
  },
  {
   "cell_type": "code",
   "execution_count": null,
   "metadata": {},
   "outputs": [],
   "source": []
  },
  {
   "cell_type": "code",
   "execution_count": null,
   "metadata": {},
   "outputs": [],
   "source": []
  }
 ],
 "metadata": {
  "kernelspec": {
   "display_name": "StockAnalysis",
   "language": "python",
   "name": "stockanalysis"
  },
  "language_info": {
   "codemirror_mode": {
    "name": "ipython",
    "version": 3
   },
   "file_extension": ".py",
   "mimetype": "text/x-python",
   "name": "python",
   "nbconvert_exporter": "python",
   "pygments_lexer": "ipython3",
   "version": "3.6.8"
  }
 },
 "nbformat": 4,
 "nbformat_minor": 4
}
